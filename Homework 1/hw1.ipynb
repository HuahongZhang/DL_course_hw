{
 "cells": [
  {
   "cell_type": "markdown",
   "metadata": {},
   "source": [
    "# Homework 1\n",
    "\n",
    "Yi Zuo\n",
    "07/09/2020\n",
    "\n",
    "## TOC:\n",
    "\n",
    "* [0. Tutorial to ACCRE and Jupyter Notebook](#prep)\n",
    "* [1. Introduction](#intro)\n",
    "* [2. Lasso as a benchmark](#lasso)\n",
    "* [3. Neural networks](#nn)\n",
    "* [4. Your job](#job)\n",
    "    * [4.1 Predict with lasso (15 pt)](#plasso)\n",
    "    * [4.2 Improve neural networks model (40 pt)](#impnn)\n",
    "    * [4.3 Reproduce the bias-variance plot (20 pt)](#plt)\n",
    "    * [4.4 Predict with neural networks (25 pt)](#pnn)"
   ]
  },
  {
   "cell_type": "markdown",
   "metadata": {},
   "source": [
    "## 0. Tutorial to ACCRE and Jupyter Notebook <a class=\"anchor\" id=\"prep\"></a>\n",
    "Below are the steps needed to create a Jupyter Notebook with GPU capability on ACCRE\n"
   ]
  },
  {
   "cell_type": "markdown",
   "metadata": {},
   "source": [
    "## Step 1: Log in to ACCRE\n",
    "https://keycloak.accre.vanderbilt.edu/auth/realms/ondemand/protocol/openid-connect/auth?response_type=code&scope=openid&client_id=portal.accre.vanderbilt.edu&state=Lb7EiMAOtzORbF1OV2bYUakCbhM&redirect_uri=https%3A%2F%2Fportal.accre.vanderbilt.edu%2Foidc&nonce=mxe7t2vgDeK6JRUm0dZO9X6tb-mrNiZwFY4WMN44ym8"
   ]
  },
  {
   "cell_type": "markdown",
   "metadata": {},
   "source": [
    "<img src=\"figures/1 accre.png\" alt=\"log in\" style=\"width: 500px;\"/>"
   ]
  },
  {
   "cell_type": "markdown",
   "metadata": {},
   "source": [
    "\n",
    "## Step 2: Create a new Jupyter Notebook with GPU\n",
    "\n"
   ]
  },
  {
   "cell_type": "markdown",
   "metadata": {},
   "source": [
    "<img src=\"figures/2 cr ipynb.png\" alt=\"Drawing\" style=\"width: 500px;\"/>\n",
    "\n"
   ]
  },
  {
   "cell_type": "markdown",
   "metadata": {},
   "source": [
    "## Step 3: GPU Jupyter default options\n",
    "\n",
    "GPU Enabled Slurm Account: `p_dsi_acc`  \n",
    "Number of hours: `4`  \n",
    "Number of requested GPU resources: `1`  \n",
    "GPU Architecture: `Pascal`  \n",
    "Working directory:   \n",
    "Python version: `Python 3.6.3 / Anaconda 5.0.1`    \n",
    "Use a virtual environment checkbox: `uncheck`    \n",
    "Python or Conda Virtual Environment: `leave blank`  \n"
   ]
  },
  {
   "cell_type": "markdown",
   "metadata": {},
   "source": [
    "<img src=\"figures/3 put.png\" alt=\"Drawing\" style=\"width: 500px;\"/>\n"
   ]
  },
  {
   "cell_type": "markdown",
   "metadata": {},
   "source": [
    "## Step 4: Wait to connect to Jupyter\n",
    "\n"
   ]
  },
  {
   "cell_type": "markdown",
   "metadata": {},
   "source": [
    "\n",
    "\n",
    "<img src=\"figures/4 init.png\" alt=\"Drawing\" style=\"width: 500px;\"/>\n",
    "\n"
   ]
  },
  {
   "cell_type": "markdown",
   "metadata": {},
   "source": [
    "## Step 5: create folders to store data sets\n",
    "\n"
   ]
  },
  {
   "cell_type": "markdown",
   "metadata": {},
   "source": [
    "<img src=\"figures/5 folder.png\" alt=\"Drawing\" style=\"width: 500px;\"/>\n",
    "\n"
   ]
  },
  {
   "cell_type": "markdown",
   "metadata": {},
   "source": [
    "You can also rename the folder.\n",
    "\n"
   ]
  },
  {
   "cell_type": "markdown",
   "metadata": {},
   "source": [
    "<img src=\"figures/6 rename.png\" alt=\"Drawing\" style=\"width: 500px;\"/>\n"
   ]
  },
  {
   "cell_type": "markdown",
   "metadata": {},
   "source": [
    "If it's your first time running the notebook, you may need to install some modules before loading them. Run the following code in the terminal. (a terminal can be built from the `New` button in the previous screenshot)\n",
    "\n",
    "`conda create -n myenv`  \n",
    "`source activate myenv`    \n",
    "`conda install torchvision` "
   ]
  },
  {
   "cell_type": "markdown",
   "metadata": {},
   "source": [
    "## 1. Introduction <a class=\"anchor\" id=\"intro\"></a>\n",
    "\n",
    "In this homework, you are asked to understand the difference between statistical modeling and deep learning modeling, get familiarized with building simple neural networks model, understand bias-variance tradeoff, and predict the outcome using the best model selected.\n",
    "\n",
    "First, let's set up the environment. "
   ]
  },
  {
   "cell_type": "code",
   "execution_count": 18,
   "metadata": {
    "collapsed": true
   },
   "outputs": [],
   "source": [
    "# save me from using display function every time I have multiple outputs in one cell\n",
    "from IPython.core.interactiveshell import InteractiveShell\n",
    "InteractiveShell.ast_node_interactivity = \"all\""
   ]
  },
  {
   "cell_type": "markdown",
   "metadata": {},
   "source": [
    "Activate the environment that we just built.  "
   ]
  },
  {
   "cell_type": "code",
   "execution_count": 19,
   "metadata": {
    "collapsed": true
   },
   "outputs": [],
   "source": [
    "! source activate myenv"
   ]
  },
  {
   "cell_type": "code",
   "execution_count": 31,
   "metadata": {
    "collapsed": true
   },
   "outputs": [],
   "source": [
    "# import modules\n",
    "import pandas as pd\n",
    "import numpy as np\n",
    "from sklearn.linear_model import LassoCV, Lasso\n",
    "from sklearn.metrics import mean_squared_error\n",
    "import matplotlib.pyplot as plt\n",
    "import torch\n",
    "import torch.nn as nn\n",
    "from torch.utils.data import TensorDataset, DataLoader\n",
    "import torch.nn.functional as F\n",
    "from torch_utils import AverageMeter\n",
    "import math\n",
    "import matplotlib.pyplot as plt\n",
    "from sklearn.metrics import mean_squared_error\n",
    "from numpy import inf"
   ]
  },
  {
   "cell_type": "markdown",
   "metadata": {
    "collapsed": true
   },
   "source": [
    "## 2. Lasso as a benchmark <a class=\"anchor\" id=\"lasso\"></a>"
   ]
  },
  {
   "cell_type": "code",
   "execution_count": null,
   "metadata": {},
   "outputs": [],
   "source": [
    "# import training data set\n",
    "train_data = pd.read_csv('data/train.csv') # 1022 by 258\n",
    "\n",
    "# get training set: n = 800\n",
    "train_x = train_data.loc[train_data['index']==\"training\",train_data.columns[2:258] ]\n",
    "train_y = train_data.loc[train_data['index']==\"training\",'SalePrice']\n",
    "\n",
    "# get validation set: n = 222\n",
    "validation_x = train_data.loc[train_data['index']==\"validation\",train_data.columns[2:258] ]\n",
    "validation_y = train_data.loc[train_data['index']==\"validation\",'SalePrice']\n",
    "\n",
    "# run cross-validated lasso\n",
    "lassocv = LassoCV(alphas = None, cv = 10, max_iter = 100000, normalize = True)\n",
    "lassocv.fit(train_x, train_y)\n",
    "\n",
    "# run lasso at best lambda\n",
    "lasso = Lasso(max_iter = 10000, normalize = True)\n",
    "lasso.set_params(alpha=lassocv.alpha_)\n",
    "lasso.fit(train_x, train_y)"
   ]
  },
  {
   "cell_type": "code",
   "execution_count": null,
   "metadata": {
    "collapsed": true
   },
   "outputs": [],
   "source": [
    "# generate predictions for the validation set\n",
    "y_out = lasso.predict(validation_x)\n",
    "\n",
    "# calculate rmse in validation set\n",
    "'rmse in the validation set: '+str(round(math.sqrt(((validation_y - y_out).pow(2)).mean()),3) ) # 37120"
   ]
  },
  {
   "cell_type": "code",
   "execution_count": null,
   "metadata": {
    "collapsed": true
   },
   "outputs": [],
   "source": [
    "# plot prediction calibration\n",
    "plt.plot(validation_y,y_out, 'o')\n",
    "plt.xlabel('Targeted y', fontsize=12)\n",
    "plt.ylabel('Modeled y', fontsize=12)\n",
    "plt.ylim(1e5,6e5)\n",
    "plt.xlim(1e5,6e5)\n",
    "plt.show()"
   ]
  },
  {
   "cell_type": "markdown",
   "metadata": {},
   "source": [
    "## 3. Neural network <a class=\"anchor\" id=\"nn\"></a>\n",
    "\n",
    "Data preparation"
   ]
  },
  {
   "cell_type": "code",
   "execution_count": 34,
   "metadata": {},
   "outputs": [],
   "source": [
    "# import data\n",
    "train_data = pd.read_csv('data/train.csv') # 1022 by 259\n",
    "test_data = pd.read_csv('data/prediction.csv') # 438 by 258\n",
    "\n",
    "to_use = list(range(2,258))\n",
    "\n",
    "# training set: n = 800\n",
    "train_x = train_data.loc[train_data['index']==\"training\",train_data.columns[to_use] ]\n",
    "train_min = train_x.min()\n",
    "train_max = train_x.max()\n",
    "\n",
    "train_x = (train_x - train_min) / (train_max - train_min) # make 0-1 transformation\n",
    "train_x = train_x.fillna(0)\n",
    "\n",
    "train_X = torch.tensor(train_x.values).float()\n",
    "\n",
    "train_y = torch.tensor(train_data.loc[train_data['index']==\"training\",'SalePrice'].values).float().view(-1,1)\n",
    "train_Y = train_y/1e2 # divide the original price by 100 for better prediction\n",
    "\n",
    "# validation set\n",
    "validation_x = train_data.loc[train_data['index']==\"validation\",train_data.columns[to_use] ]\n",
    "\n",
    "validation_x = (validation_x - train_min) / (train_max - train_min) # use training data to make 0-1 transformation\n",
    "\n",
    "validation_x = validation_x.fillna(0)\n",
    "validation_x[validation_x==inf] = 0\n",
    "validation_X = torch.tensor(validation_x.values).float()\n",
    "\n",
    "validation_y = torch.tensor(train_data.loc[train_data['index']==\"validation\",'SalePrice'].values).float().view(-1,1)\n",
    "validation_Y = validation_y/1e2 # divide the original price by 100 for better prediction\n",
    "\n",
    "# prediction set\n",
    "test_x = test_data.iloc[:,[x - 1 for x in to_use]]\n",
    "test_x = (test_x - train_min) / (train_max - train_min)\n",
    "test_x = test_x.fillna(0)\n",
    "test_x[test_x==inf] = 0\n",
    "test_X = torch.tensor(test_x.values).float()\n"
   ]
  },
  {
   "cell_type": "markdown",
   "metadata": {},
   "source": [
    "Define the neural networks model"
   ]
  },
  {
   "cell_type": "code",
   "execution_count": 52,
   "metadata": {},
   "outputs": [
    {
     "ename": "AssertionError",
     "evalue": "\nThe NVIDIA driver on your system is too old (found version 10010).\nPlease update your GPU driver by downloading and installing a new\nversion from the URL: http://www.nvidia.com/Download/index.aspx\nAlternatively, go to: https://pytorch.org to install\na PyTorch version that has been compiled with your version\nof the CUDA driver.",
     "output_type": "error",
     "traceback": [
      "\u001b[0;31m---------------------------------------------------------------------------\u001b[0m",
      "\u001b[0;31mAssertionError\u001b[0m                            Traceback (most recent call last)",
      "\u001b[0;32m<ipython-input-52-1f79c44c2520>\u001b[0m in \u001b[0;36m<module>\u001b[0;34m()\u001b[0m\n\u001b[1;32m     30\u001b[0m \u001b[0;34m\u001b[0m\u001b[0m\n\u001b[1;32m     31\u001b[0m \u001b[0;31m# set up the model\u001b[0m\u001b[0;34m\u001b[0m\u001b[0;34m\u001b[0m\u001b[0m\n\u001b[0;32m---> 32\u001b[0;31m \u001b[0mmodel\u001b[0m \u001b[0;34m=\u001b[0m \u001b[0mbmodel\u001b[0m\u001b[0;34m(\u001b[0m\u001b[0minput_d\u001b[0m\u001b[0;34m,\u001b[0m \u001b[0mhidden_d\u001b[0m\u001b[0;34m,\u001b[0m \u001b[0moutput_d\u001b[0m\u001b[0;34m)\u001b[0m\u001b[0;34m.\u001b[0m\u001b[0mto\u001b[0m\u001b[0;34m(\u001b[0m\u001b[0mdevice\u001b[0m\u001b[0;34m)\u001b[0m\u001b[0;34m\u001b[0m\u001b[0m\n\u001b[0m\u001b[1;32m     33\u001b[0m \u001b[0;34m\u001b[0m\u001b[0m\n\u001b[1;32m     34\u001b[0m \u001b[0;31m# define optimizer\u001b[0m\u001b[0;34m\u001b[0m\u001b[0;34m\u001b[0m\u001b[0m\n",
      "\u001b[0;32m~/.local/lib/python3.6/site-packages/torch/nn/modules/module.py\u001b[0m in \u001b[0;36mto\u001b[0;34m(self, *args, **kwargs)\u001b[0m\n\u001b[1;32m    441\u001b[0m             \u001b[0;32mreturn\u001b[0m \u001b[0mt\u001b[0m\u001b[0;34m.\u001b[0m\u001b[0mto\u001b[0m\u001b[0;34m(\u001b[0m\u001b[0mdevice\u001b[0m\u001b[0;34m,\u001b[0m \u001b[0mdtype\u001b[0m \u001b[0;32mif\u001b[0m \u001b[0mt\u001b[0m\u001b[0;34m.\u001b[0m\u001b[0mis_floating_point\u001b[0m\u001b[0;34m(\u001b[0m\u001b[0;34m)\u001b[0m \u001b[0;32melse\u001b[0m \u001b[0;32mNone\u001b[0m\u001b[0;34m,\u001b[0m \u001b[0mnon_blocking\u001b[0m\u001b[0;34m)\u001b[0m\u001b[0;34m\u001b[0m\u001b[0m\n\u001b[1;32m    442\u001b[0m \u001b[0;34m\u001b[0m\u001b[0m\n\u001b[0;32m--> 443\u001b[0;31m         \u001b[0;32mreturn\u001b[0m \u001b[0mself\u001b[0m\u001b[0;34m.\u001b[0m\u001b[0m_apply\u001b[0m\u001b[0;34m(\u001b[0m\u001b[0mconvert\u001b[0m\u001b[0;34m)\u001b[0m\u001b[0;34m\u001b[0m\u001b[0m\n\u001b[0m\u001b[1;32m    444\u001b[0m \u001b[0;34m\u001b[0m\u001b[0m\n\u001b[1;32m    445\u001b[0m     \u001b[0;32mdef\u001b[0m \u001b[0mregister_backward_hook\u001b[0m\u001b[0;34m(\u001b[0m\u001b[0mself\u001b[0m\u001b[0;34m,\u001b[0m \u001b[0mhook\u001b[0m\u001b[0;34m)\u001b[0m\u001b[0;34m:\u001b[0m\u001b[0;34m\u001b[0m\u001b[0m\n",
      "\u001b[0;32m~/.local/lib/python3.6/site-packages/torch/nn/modules/module.py\u001b[0m in \u001b[0;36m_apply\u001b[0;34m(self, fn)\u001b[0m\n\u001b[1;32m    201\u001b[0m     \u001b[0;32mdef\u001b[0m \u001b[0m_apply\u001b[0m\u001b[0;34m(\u001b[0m\u001b[0mself\u001b[0m\u001b[0;34m,\u001b[0m \u001b[0mfn\u001b[0m\u001b[0;34m)\u001b[0m\u001b[0;34m:\u001b[0m\u001b[0;34m\u001b[0m\u001b[0m\n\u001b[1;32m    202\u001b[0m         \u001b[0;32mfor\u001b[0m \u001b[0mmodule\u001b[0m \u001b[0;32min\u001b[0m \u001b[0mself\u001b[0m\u001b[0;34m.\u001b[0m\u001b[0mchildren\u001b[0m\u001b[0;34m(\u001b[0m\u001b[0;34m)\u001b[0m\u001b[0;34m:\u001b[0m\u001b[0;34m\u001b[0m\u001b[0m\n\u001b[0;32m--> 203\u001b[0;31m             \u001b[0mmodule\u001b[0m\u001b[0;34m.\u001b[0m\u001b[0m_apply\u001b[0m\u001b[0;34m(\u001b[0m\u001b[0mfn\u001b[0m\u001b[0;34m)\u001b[0m\u001b[0;34m\u001b[0m\u001b[0m\n\u001b[0m\u001b[1;32m    204\u001b[0m \u001b[0;34m\u001b[0m\u001b[0m\n\u001b[1;32m    205\u001b[0m         \u001b[0;32mdef\u001b[0m \u001b[0mcompute_should_use_set_data\u001b[0m\u001b[0;34m(\u001b[0m\u001b[0mtensor\u001b[0m\u001b[0;34m,\u001b[0m \u001b[0mtensor_applied\u001b[0m\u001b[0;34m)\u001b[0m\u001b[0;34m:\u001b[0m\u001b[0;34m\u001b[0m\u001b[0m\n",
      "\u001b[0;32m~/.local/lib/python3.6/site-packages/torch/nn/modules/module.py\u001b[0m in \u001b[0;36m_apply\u001b[0;34m(self, fn)\u001b[0m\n\u001b[1;32m    223\u001b[0m                 \u001b[0;31m# `with torch.no_grad():`\u001b[0m\u001b[0;34m\u001b[0m\u001b[0;34m\u001b[0m\u001b[0m\n\u001b[1;32m    224\u001b[0m                 \u001b[0;32mwith\u001b[0m \u001b[0mtorch\u001b[0m\u001b[0;34m.\u001b[0m\u001b[0mno_grad\u001b[0m\u001b[0;34m(\u001b[0m\u001b[0;34m)\u001b[0m\u001b[0;34m:\u001b[0m\u001b[0;34m\u001b[0m\u001b[0m\n\u001b[0;32m--> 225\u001b[0;31m                     \u001b[0mparam_applied\u001b[0m \u001b[0;34m=\u001b[0m \u001b[0mfn\u001b[0m\u001b[0;34m(\u001b[0m\u001b[0mparam\u001b[0m\u001b[0;34m)\u001b[0m\u001b[0;34m\u001b[0m\u001b[0m\n\u001b[0m\u001b[1;32m    226\u001b[0m                 \u001b[0mshould_use_set_data\u001b[0m \u001b[0;34m=\u001b[0m \u001b[0mcompute_should_use_set_data\u001b[0m\u001b[0;34m(\u001b[0m\u001b[0mparam\u001b[0m\u001b[0;34m,\u001b[0m \u001b[0mparam_applied\u001b[0m\u001b[0;34m)\u001b[0m\u001b[0;34m\u001b[0m\u001b[0m\n\u001b[1;32m    227\u001b[0m                 \u001b[0;32mif\u001b[0m \u001b[0mshould_use_set_data\u001b[0m\u001b[0;34m:\u001b[0m\u001b[0;34m\u001b[0m\u001b[0m\n",
      "\u001b[0;32m~/.local/lib/python3.6/site-packages/torch/nn/modules/module.py\u001b[0m in \u001b[0;36mconvert\u001b[0;34m(t)\u001b[0m\n\u001b[1;32m    439\u001b[0m             \u001b[0;32mif\u001b[0m \u001b[0mconvert_to_format\u001b[0m \u001b[0;32mis\u001b[0m \u001b[0;32mnot\u001b[0m \u001b[0;32mNone\u001b[0m \u001b[0;32mand\u001b[0m \u001b[0mt\u001b[0m\u001b[0;34m.\u001b[0m\u001b[0mdim\u001b[0m\u001b[0;34m(\u001b[0m\u001b[0;34m)\u001b[0m \u001b[0;34m==\u001b[0m \u001b[0;36m4\u001b[0m\u001b[0;34m:\u001b[0m\u001b[0;34m\u001b[0m\u001b[0m\n\u001b[1;32m    440\u001b[0m                 \u001b[0;32mreturn\u001b[0m \u001b[0mt\u001b[0m\u001b[0;34m.\u001b[0m\u001b[0mto\u001b[0m\u001b[0;34m(\u001b[0m\u001b[0mdevice\u001b[0m\u001b[0;34m,\u001b[0m \u001b[0mdtype\u001b[0m \u001b[0;32mif\u001b[0m \u001b[0mt\u001b[0m\u001b[0;34m.\u001b[0m\u001b[0mis_floating_point\u001b[0m\u001b[0;34m(\u001b[0m\u001b[0;34m)\u001b[0m \u001b[0;32melse\u001b[0m \u001b[0;32mNone\u001b[0m\u001b[0;34m,\u001b[0m \u001b[0mnon_blocking\u001b[0m\u001b[0;34m,\u001b[0m \u001b[0mmemory_format\u001b[0m\u001b[0;34m=\u001b[0m\u001b[0mconvert_to_format\u001b[0m\u001b[0;34m)\u001b[0m\u001b[0;34m\u001b[0m\u001b[0m\n\u001b[0;32m--> 441\u001b[0;31m             \u001b[0;32mreturn\u001b[0m \u001b[0mt\u001b[0m\u001b[0;34m.\u001b[0m\u001b[0mto\u001b[0m\u001b[0;34m(\u001b[0m\u001b[0mdevice\u001b[0m\u001b[0;34m,\u001b[0m \u001b[0mdtype\u001b[0m \u001b[0;32mif\u001b[0m \u001b[0mt\u001b[0m\u001b[0;34m.\u001b[0m\u001b[0mis_floating_point\u001b[0m\u001b[0;34m(\u001b[0m\u001b[0;34m)\u001b[0m \u001b[0;32melse\u001b[0m \u001b[0;32mNone\u001b[0m\u001b[0;34m,\u001b[0m \u001b[0mnon_blocking\u001b[0m\u001b[0;34m)\u001b[0m\u001b[0;34m\u001b[0m\u001b[0m\n\u001b[0m\u001b[1;32m    442\u001b[0m \u001b[0;34m\u001b[0m\u001b[0m\n\u001b[1;32m    443\u001b[0m         \u001b[0;32mreturn\u001b[0m \u001b[0mself\u001b[0m\u001b[0;34m.\u001b[0m\u001b[0m_apply\u001b[0m\u001b[0;34m(\u001b[0m\u001b[0mconvert\u001b[0m\u001b[0;34m)\u001b[0m\u001b[0;34m\u001b[0m\u001b[0m\n",
      "\u001b[0;32m~/.local/lib/python3.6/site-packages/torch/cuda/__init__.py\u001b[0m in \u001b[0;36m_lazy_init\u001b[0;34m()\u001b[0m\n\u001b[1;32m    147\u001b[0m             raise RuntimeError(\n\u001b[1;32m    148\u001b[0m                 \"Cannot re-initialize CUDA in forked subprocess. \" + msg)\n\u001b[0;32m--> 149\u001b[0;31m         \u001b[0m_check_driver\u001b[0m\u001b[0;34m(\u001b[0m\u001b[0;34m)\u001b[0m\u001b[0;34m\u001b[0m\u001b[0m\n\u001b[0m\u001b[1;32m    150\u001b[0m         \u001b[0;32mif\u001b[0m \u001b[0m_cudart\u001b[0m \u001b[0;32mis\u001b[0m \u001b[0;32mNone\u001b[0m\u001b[0;34m:\u001b[0m\u001b[0;34m\u001b[0m\u001b[0m\n\u001b[1;32m    151\u001b[0m             raise AssertionError(\n",
      "\u001b[0;32m~/.local/lib/python3.6/site-packages/torch/cuda/__init__.py\u001b[0m in \u001b[0;36m_check_driver\u001b[0;34m()\u001b[0m\n\u001b[1;32m     61\u001b[0m \u001b[0mAlternatively\u001b[0m\u001b[0;34m,\u001b[0m \u001b[0mgo\u001b[0m \u001b[0mto\u001b[0m\u001b[0;34m:\u001b[0m \u001b[0mhttps\u001b[0m\u001b[0;34m:\u001b[0m\u001b[0;34m//\u001b[0m\u001b[0mpytorch\u001b[0m\u001b[0;34m.\u001b[0m\u001b[0morg\u001b[0m \u001b[0mto\u001b[0m \u001b[0minstall\u001b[0m\u001b[0;34m\u001b[0m\u001b[0m\n\u001b[1;32m     62\u001b[0m \u001b[0ma\u001b[0m \u001b[0mPyTorch\u001b[0m \u001b[0mversion\u001b[0m \u001b[0mthat\u001b[0m \u001b[0mhas\u001b[0m \u001b[0mbeen\u001b[0m \u001b[0mcompiled\u001b[0m \u001b[0;32mwith\u001b[0m \u001b[0myour\u001b[0m \u001b[0mversion\u001b[0m\u001b[0;34m\u001b[0m\u001b[0m\n\u001b[0;32m---> 63\u001b[0;31m of the CUDA driver.\"\"\".format(str(torch._C._cuda_getDriverVersion())))\n\u001b[0m\u001b[1;32m     64\u001b[0m \u001b[0;34m\u001b[0m\u001b[0m\n\u001b[1;32m     65\u001b[0m \u001b[0;34m\u001b[0m\u001b[0m\n",
      "\u001b[0;31mAssertionError\u001b[0m: \nThe NVIDIA driver on your system is too old (found version 10010).\nPlease update your GPU driver by downloading and installing a new\nversion from the URL: http://www.nvidia.com/Download/index.aspx\nAlternatively, go to: https://pytorch.org to install\na PyTorch version that has been compiled with your version\nof the CUDA driver."
     ]
    }
   ],
   "source": [
    "device = torch.device(\"cuda\")\n",
    "kwargs = {'num_workers': 1, 'pin_memory': True} \n",
    "# prepare training data loader\n",
    "train_ds = TensorDataset(train_X,train_Y)\n",
    "validate_ds = TensorDataset(validation_X,validation_Y)\n",
    "\n",
    "batch_size = 8\n",
    "train_dl = DataLoader(train_ds, batch_size, shuffle=True,**kwargs)\n",
    "\n",
    "validate_dl = DataLoader(validate_ds, batch_size, shuffle=True,**kwargs)\n",
    "\n",
    "# define model\n",
    "class bmodel(nn.Module):\n",
    "    def __init__(self, input_d, hidden_d, output_d):\n",
    "        super().__init__()\n",
    "        self.fc1 = nn.Linear(input_d,hidden_d)\n",
    "        self.fc2 = nn.Linear(hidden_d,output_d)\n",
    "        self.dropout1 = nn.Dropout(0.5)\n",
    "\n",
    "    def forward(self, x):\n",
    "        out = F.relu(self.fc1(x))\n",
    "        out = self.dropout1(out)\n",
    "        out = self.fc2(out)\n",
    "        return out\n",
    "\n",
    "# define dimensions\n",
    "input_d = len(to_use)\n",
    "hidden_d = 512\n",
    "output_d = 1\n",
    "\n",
    "# set up the model\n",
    "model = bmodel(input_d, hidden_d, output_d).to(device)\n",
    "\n",
    "# define optimizer\n",
    "opt = torch.optim.SGD(model.parameters(), lr=1e-5)\n",
    "\n",
    "# define loss function\n",
    "loss_fn = F.mse_loss\n",
    "\n",
    "# define the training function\n",
    "def train(train_loader,model,device,loss_fn,opt):\n",
    "    model.train()\n",
    "\n",
    "    losses = AverageMeter('Loss', math.ceil(train_X.shape[0]/batch_size),':.4f')\n",
    "\n",
    "    for batch_idx, (inputs, targets) in enumerate(train_loader):\n",
    "        \n",
    "        inputs, targets = inputs.to(device), targets.to(device)\n",
    "        \n",
    "        # generate predictions\n",
    "        pred = model(inputs)\n",
    "        loss = loss_fn(pred, targets)\n",
    "\n",
    "        # record loss\n",
    "        losses.update(loss.data.item())\n",
    "\n",
    "        # perform gradient descent\n",
    "        opt.zero_grad()\n",
    "        loss.backward()\n",
    "        opt.step()\n",
    "\n",
    "    return(losses.avg)\n",
    "\n",
    "# define the validation function\n",
    "def validate(val_loader, model, device, loss_fn):\n",
    "    model.eval()\n",
    "    with torch.no_grad():\n",
    "        losses = AverageMeter('Loss',math.ceil(validation_X.shape[0]/batch_size),':.4f')\n",
    "\n",
    "        for batch_idx, (inputs,targets) in enumerate(val_loader):\n",
    "            \n",
    "            inputs, targets = inputs.to(device), targets.to(device)\n",
    "            outputs = model(inputs)\n",
    "            loss = loss_fn(outputs , targets )\n",
    "\n",
    "            losses.update(loss.data.item())\n",
    "\n",
    "    return losses.avg\n",
    "\n",
    "# define the main function\n",
    "def fit(num_epochs, model, loss_fn, opt):\n",
    "\n",
    "    best_loss = 1e9\n",
    "    is_best = False\n",
    "    out_train_loss = []\n",
    "    out_validate_loss = []\n",
    "\n",
    "    for epoch in range(1,num_epochs+1):\n",
    "        train_loss = train(train_dl,model,device,loss_fn,opt)\n",
    "        validation_loss = validate(validate_dl, model,device, loss_fn)\n",
    "\n",
    "        is_best = validation_loss < best_loss\n",
    "        best_loss = min(validation_loss,best_loss)\n",
    "\n",
    "        out_train_loss.append(train_loss)\n",
    "        out_validate_loss.append(validation_loss)\n",
    "\n",
    "        if is_best:\n",
    "            torch.save(model.state_dict(), 'data/best_nn.pt')\n",
    "\n",
    "        if epoch % 50 == 0:\n",
    "            print(\"[%d/%d] training loss: %0.3f, validation loss: %.3f\"\n",
    "                  % (epoch,num_epochs,train_loss,validation_loss))\n",
    "\n",
    "    print(\"Best validation loss: %.03f\" % (best_loss))\n",
    "    return out_train_loss, out_validate_loss\n",
    "\n"
   ]
  },
  {
   "cell_type": "code",
   "execution_count": null,
   "metadata": {},
   "outputs": [],
   "source": [
    "out_train_loss, out_validate_loss = fit(500, model, loss_fn, opt)"
   ]
  },
  {
   "cell_type": "markdown",
   "metadata": {},
   "source": [
    "Use CPU"
   ]
  },
  {
   "cell_type": "code",
   "execution_count": 39,
   "metadata": {
    "collapsed": true
   },
   "outputs": [],
   "source": [
    " \n",
    "# prepare training data loader\n",
    "train_ds = TensorDataset(train_X,train_Y)\n",
    "validate_ds = TensorDataset(validation_X,validation_Y)\n",
    "\n",
    "batch_size = 8\n",
    "train_dl = DataLoader(train_ds, batch_size, shuffle=True,**kwargs)\n",
    "validate_dl = DataLoader(validate_ds, batch_size, shuffle=True,**kwargs)\n",
    "\n",
    "# define model\n",
    "class bmodel(nn.Module):\n",
    "    def __init__(self, input_d, hidden_d, output_d):\n",
    "        super().__init__()\n",
    "        self.fc1 = nn.Linear(input_d,hidden_d)\n",
    "        self.fc2 = nn.Linear(hidden_d,output_d)\n",
    "        self.dropout1 = nn.Dropout(0.5)\n",
    "\n",
    "    def forward(self, x):\n",
    "        out = F.relu(self.fc1(x))\n",
    "        out = self.dropout1(out)\n",
    "        out = self.fc2(out)\n",
    "        return out\n",
    "\n",
    "# define dimensions\n",
    "input_d = len(to_use)\n",
    "hidden_d = 512\n",
    "output_d = 1\n",
    "\n",
    "# set up the model\n",
    "model = bmodel(input_d, hidden_d, output_d)\n",
    "\n",
    "# define optimizer\n",
    "opt = torch.optim.SGD(model.parameters(), lr=1e-5)\n",
    "\n",
    "# define loss function\n",
    "loss_fn = F.mse_loss\n",
    "\n",
    "# define the training function\n",
    "def train(train_loader,model,loss_fn,opt):\n",
    "    model.train()\n",
    "\n",
    "    losses = AverageMeter('Loss', math.ceil(train_X.shape[0]/batch_size),':.4f')\n",
    "\n",
    "    for batch_idx, (inputs, targets) in enumerate(train_loader):\n",
    "\n",
    "        # generate predictions\n",
    "        pred = model(inputs)\n",
    "        loss = loss_fn(pred, targets)\n",
    "\n",
    "        # record loss\n",
    "        losses.update(loss.data.item())\n",
    "\n",
    "        # perform gradient descent\n",
    "        opt.zero_grad()\n",
    "        loss.backward()\n",
    "        opt.step()\n",
    "\n",
    "    return(losses.avg)\n",
    "\n",
    "# define the validation function\n",
    "def validate(val_loader, model, loss_fn):\n",
    "    model.eval()\n",
    "    with torch.no_grad():\n",
    "        losses = AverageMeter('Loss',math.ceil(validation_X.shape[0]/batch_size),':.4f')\n",
    "\n",
    "        for batch_idx, (inputs,targets) in enumerate(val_loader):\n",
    "            outputs = model(inputs)\n",
    "            loss = loss_fn(outputs , targets )\n",
    "\n",
    "            losses.update(loss.data.item())\n",
    "\n",
    "    return losses.avg\n",
    "\n",
    "# define the main function\n",
    "def fit(num_epochs, model, loss_fn, opt):\n",
    "\n",
    "    best_loss = 1e9\n",
    "    is_best = False\n",
    "    out_train_loss = []\n",
    "    out_validate_loss = []\n",
    "\n",
    "    for epoch in range(1,num_epochs+1):\n",
    "        train_loss = train(train_dl,model,loss_fn,opt)\n",
    "        validation_loss = validate(validate_dl, model, loss_fn)\n",
    "\n",
    "        is_best = validation_loss < best_loss\n",
    "        best_loss = min(validation_loss,best_loss)\n",
    "\n",
    "        out_train_loss.append(train_loss)\n",
    "        out_validate_loss.append(validation_loss)\n",
    "\n",
    "        if is_best:\n",
    "            torch.save(model.state_dict(), 'data/best_nn.pt')\n",
    "\n",
    "        if epoch % 50 == 0:\n",
    "            print(\"[%d/%d] training loss: %0.3f, validation loss: %.3f\"\n",
    "                  % (epoch,num_epochs,train_loss,validation_loss))\n",
    "\n",
    "    print(\"Best validation loss: %.03f\" % (best_loss))\n",
    "    return out_train_loss, out_validate_loss\n",
    "\n"
   ]
  },
  {
   "cell_type": "markdown",
   "metadata": {},
   "source": [
    "Run the process for 500 epochs and produce the training and validation loss plot with reference line from cross validated lasso. Can you derive the reference number from lasso?"
   ]
  },
  {
   "cell_type": "code",
   "execution_count": 40,
   "metadata": {},
   "outputs": [
    {
     "name": "stdout",
     "output_type": "stream",
     "text": [
      "[50/500] training loss: 64949.499, validation loss: 113349.327\n",
      "[100/500] training loss: 47291.462, validation loss: 105915.008\n",
      "[150/500] training loss: 41336.051, validation loss: 105893.659\n",
      "[200/500] training loss: 35141.855, validation loss: 108205.847\n",
      "[250/500] training loss: 36777.453, validation loss: 116755.405\n",
      "[300/500] training loss: 26223.610, validation loss: 109822.608\n",
      "[350/500] training loss: 28232.058, validation loss: 117337.811\n",
      "[400/500] training loss: 27106.881, validation loss: 100041.031\n",
      "[450/500] training loss: 25953.112, validation loss: 97249.067\n",
      "[500/500] training loss: 23536.518, validation loss: 100134.246\n",
      "Best validation loss: 88860.594\n"
     ]
    }
   ],
   "source": [
    "out_train_loss, out_validate_loss = fit(500, model, loss_fn, opt)"
   ]
  },
  {
   "cell_type": "code",
   "execution_count": 42,
   "metadata": {},
   "outputs": [
    {
     "data": {
      "text/plain": [
       "[<matplotlib.lines.Line2D at 0x2ad0aff25400>]"
      ]
     },
     "execution_count": 42,
     "metadata": {},
     "output_type": "execute_result"
    },
    {
     "data": {
      "text/plain": [
       "[<matplotlib.lines.Line2D at 0x2ad0a7a1a320>]"
      ]
     },
     "execution_count": 42,
     "metadata": {},
     "output_type": "execute_result"
    },
    {
     "data": {
      "text/plain": [
       "<matplotlib.lines.Line2D at 0x2ad0aff25a20>"
      ]
     },
     "execution_count": 42,
     "metadata": {},
     "output_type": "execute_result"
    },
    {
     "data": {
      "text/plain": [
       "<matplotlib.lines.Line2D at 0x2ad0aff25e48>"
      ]
     },
     "execution_count": 42,
     "metadata": {},
     "output_type": "execute_result"
    },
    {
     "data": {
      "text/plain": [
       "Text(0.5,0,'Epoch')"
      ]
     },
     "execution_count": 42,
     "metadata": {},
     "output_type": "execute_result"
    },
    {
     "data": {
      "text/plain": [
       "Text(0,0.5,'Loss')"
      ]
     },
     "execution_count": 42,
     "metadata": {},
     "output_type": "execute_result"
    },
    {
     "data": {
      "text/plain": [
       "<matplotlib.legend.Legend at 0x2ad0aff3c8d0>"
      ]
     },
     "execution_count": 42,
     "metadata": {},
     "output_type": "execute_result"
    },
    {
     "data": {
      "image/png": "[encoded data removed]",
      "text/plain": [
       "<matplotlib.figure.Figure at 0x2ad0a79d9320>"
      ]
     },
     "metadata": {},
     "output_type": "display_data"
    }
   ],
   "source": [
    "# plot the training and validation loss: rmse\n",
    "plot_data = {'Epoch': list(range(1,501)),\n",
    "             'TrainLoss': [math.sqrt(x) for x in out_train_loss],\n",
    "             'ValidateLoss': [math.sqrt(x) for x in out_validate_loss] }\n",
    "\n",
    "plot_data = pd.DataFrame(plot_data)\n",
    "\n",
    "# find the best epoch\n",
    "index_min = plot_data['ValidateLoss'].idxmin()\n",
    "\n",
    "# plot\n",
    "plt.plot('Epoch','TrainLoss',data=plot_data,color=\"blue\",label='Training loss')\n",
    "plt.plot('Epoch','ValidateLoss',data=plot_data,color=\"green\",label='Validation loss')\n",
    "plt.axhline(y=371, color='red', linestyle='-')\n",
    "plt.axvline(x=index_min+1, color='k', linestyle='--')\n",
    "plt.xlabel('Epoch')\n",
    "plt.ylabel('Loss')\n",
    "plt.legend()\n",
    "plt.show()"
   ]
  },
  {
   "cell_type": "markdown",
   "metadata": {},
   "source": [
    "Plot the prediction calibration"
   ]
  },
  {
   "cell_type": "code",
   "execution_count": 43,
   "metadata": {},
   "outputs": [
    {
     "data": {
      "text/plain": [
       "<All keys matched successfully>"
      ]
     },
     "execution_count": 43,
     "metadata": {},
     "output_type": "execute_result"
    },
    {
     "data": {
      "text/plain": [
       "bmodel(\n",
       "  (fc1): Linear(in_features=256, out_features=512, bias=True)\n",
       "  (fc2): Linear(in_features=512, out_features=1, bias=True)\n",
       "  (dropout1): Dropout(p=0.5, inplace=False)\n",
       ")"
      ]
     },
     "execution_count": 43,
     "metadata": {},
     "output_type": "execute_result"
    },
    {
     "data": {
      "text/plain": [
       "29930.323352747128"
      ]
     },
     "execution_count": 43,
     "metadata": {},
     "output_type": "execute_result"
    },
    {
     "data": {
      "text/plain": [
       "[<matplotlib.lines.Line2D at 0x2ad0affc9470>]"
      ]
     },
     "execution_count": 43,
     "metadata": {},
     "output_type": "execute_result"
    },
    {
     "data": {
      "text/plain": [
       "Text(0.5,0,'Targeted y')"
      ]
     },
     "execution_count": 43,
     "metadata": {},
     "output_type": "execute_result"
    },
    {
     "data": {
      "text/plain": [
       "Text(0,0.5,'Modeled y')"
      ]
     },
     "execution_count": 43,
     "metadata": {},
     "output_type": "execute_result"
    },
    {
     "data": {
      "text/plain": [
       "(100000.0, 800000.0)"
      ]
     },
     "execution_count": 43,
     "metadata": {},
     "output_type": "execute_result"
    },
    {
     "data": {
      "text/plain": [
       "(100000.0, 800000.0)"
      ]
     },
     "execution_count": 43,
     "metadata": {},
     "output_type": "execute_result"
    },
    {
     "data": {
      "image/png": "[encoded data removed]",
      "text/plain": [
       "<matplotlib.figure.Figure at 0x2ad0a79d96d8>"
      ]
     },
     "metadata": {},
     "output_type": "display_data"
    }
   ],
   "source": [
    "# prediction in the validation set\n",
    "model.load_state_dict(torch.load('data/best_nn.pt'))\n",
    "model.eval()\n",
    "with torch.no_grad():\n",
    "    preds = model(validation_X) * 1e2\n",
    "\n",
    "# rmse\n",
    "math.sqrt(mean_squared_error(validation_y, preds)) # 29691\n",
    "\n",
    "# calibration plot of the validation set\n",
    "plt.plot( (validation_y).detach().numpy(), preds.detach().numpy(), 'o')\n",
    "plt.xlabel('Targeted y', fontsize=16)\n",
    "plt.ylabel('Modeled y', fontsize=16)\n",
    "plt.ylim(1e5,8e5)\n",
    "plt.xlim(1e5,8e5)\n",
    "plt.show()\n"
   ]
  },
  {
   "cell_type": "markdown",
   "metadata": {},
   "source": [
    "Make prediction in the test set"
   ]
  },
  {
   "cell_type": "code",
   "execution_count": 44,
   "metadata": {},
   "outputs": [
    {
     "data": {
      "text/plain": [
       "bmodel(\n",
       "  (fc1): Linear(in_features=256, out_features=512, bias=True)\n",
       "  (fc2): Linear(in_features=512, out_features=1, bias=True)\n",
       "  (dropout1): Dropout(p=0.5, inplace=False)\n",
       ")"
      ]
     },
     "execution_count": 44,
     "metadata": {},
     "output_type": "execute_result"
    }
   ],
   "source": [
    "# predict in the prediction set\n",
    "model.eval()\n",
    "with torch.no_grad():\n",
    "    output = model(test_X)*1e2\n",
    "\n",
    "# output the prediction\n",
    "out = {'Id': test_data.iloc[:,0],\n",
    "       'SalePrice': output.squeeze().tolist()}\n",
    "\n",
    "out_d = pd.DataFrame(out)\n",
    "\n",
    "out_d.to_csv(\"data/sample_nn_test.csv\",index=False)\n"
   ]
  },
  {
   "cell_type": "markdown",
   "metadata": {
    "collapsed": true
   },
   "source": [
    "## 4. Your job <a class=\"anchor\" id=\"job\"></a>\n",
    "\n",
    "Your homework will be graded by the following four parts."
   ]
  },
  {
   "cell_type": "markdown",
   "metadata": {},
   "source": [
    "### 4.1 Predict with lasso (15 pt) <a class=\"anchor\" id=\"plasso\"></a>\n",
    "\n",
    "Fit a lasso model on the training set (1022 observations), and predict SalePrice on the prediction set (438 observations) \n",
    "\n",
    "Output the prediction in a csv file and see Google Doc for more formatting details"
   ]
  },
  {
   "cell_type": "markdown",
   "metadata": {},
   "source": [
    "### 4.2 Improve neural networks model (40 pt) <a class=\"anchor\" id=\"impnn\"></a>\n",
    "\n",
    "Improve the neural networks model in whatever way you want"
   ]
  },
  {
   "cell_type": "markdown",
   "metadata": {},
   "source": [
    "### 4.3 Reproduce the bias-variance plot (20 pt) <a class=\"anchor\" id=\"plt\"></a>\n",
    "\n",
    "Reproduce the figure, ideally have the expected pattern"
   ]
  },
  {
   "cell_type": "markdown",
   "metadata": {},
   "source": [
    "### 4.4 Predict with neural networks (25 pt) <a class=\"anchor\" id=\"pnn\"></a>\n",
    "\n",
    "Use your NN model to predict in the prediction set (438 observations), and see Google Doc for more formatting details"
   ]
  },
  {
   "cell_type": "code",
   "execution_count": null,
   "metadata": {
    "collapsed": true
   },
   "outputs": [],
   "source": []
  },
  {
   "cell_type": "markdown",
   "metadata": {},
   "source": [
    "We can close the environment now."
   ]
  },
  {
   "cell_type": "code",
   "execution_count": 11,
   "metadata": {
    "collapsed": true
   },
   "outputs": [],
   "source": [
    "! source deactivate"
   ]
  }
 ],
 "metadata": {
  "kernelspec": {
   "display_name": "Python 3",
   "language": "python",
   "name": "python3"
  }
 },
 "nbformat": 4,
 "nbformat_minor": 2
}
