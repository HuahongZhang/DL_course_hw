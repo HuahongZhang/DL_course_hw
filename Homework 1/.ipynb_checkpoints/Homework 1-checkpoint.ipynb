{
 "cells": [
  {
   "cell_type": "markdown",
   "metadata": {},
   "source": [
    "# Homework 1\n",
    "\n",
    "Yi Zuo\n",
    "07/05/2020\n",
    "\n",
    "## TOC:\n",
    "\n",
    "* [0. Prerequisite](#prep)\n",
    "* [1. Introduction](#intro)\n",
    "* [2. Lasso as a benchmark](#lasso)\n",
    "* [3. Neural networks](#nn)\n",
    "* [4. Your job](#job)\n",
    "    * [4.1 Predict with lasso (15 pt)](#plasso)\n",
    "    * [4.2 Improve neural networks model (40 pt)](#impnn)\n",
    "    * [4.3 Reproduce the bias-variance plot (20 pt)](#plt)\n",
    "    * [4.4 Predict with neural networks (25 pt)](#pnn)"
   ]
  },
  {
   "cell_type": "markdown",
   "metadata": {},
   "source": [
    "## 0. Prerequisite <a class=\"anchor\" id=\"prep\"></a>\n",
    "Import modules needed for this homework "
   ]
  },
  {
   "cell_type": "code",
   "execution_count": 1,
   "metadata": {},
   "outputs": [],
   "source": [
    "# save me from using display function every time I have multiple outputs in one cell\n",
    "from IPython.core.interactiveshell import InteractiveShell\n",
    "InteractiveShell.ast_node_interactivity = \"all\""
   ]
  },
  {
   "cell_type": "code",
   "execution_count": 2,
   "metadata": {},
   "outputs": [],
   "source": [
    "# import\n",
    "import pandas as pd\n",
    "import numpy as np\n",
    "from sklearn.linear_model import LassoCV, Lasso\n",
    "from sklearn.metrics import mean_squared_error\n",
    "import matplotlib.pyplot as plt\n",
    "import torch\n",
    "import torch.nn as nn\n",
    "from torch.utils.data import TensorDataset, DataLoader\n",
    "import torch.nn.functional as F\n",
    "from torch_utils import AverageMeter\n",
    "import math"
   ]
  },
  {
   "cell_type": "markdown",
   "metadata": {},
   "source": [
    "## 1. Introduction <a class=\"anchor\" id=\"intro\"></a>\n",
    "\n",
    "In this homework, you are asked to understand the difference between statistical modeling and deep learning modeling, get familiarized with building simple neural networks model, understand bias-variance tradeoff, and predict the outcome using the best model selected.\n"
   ]
  },
  {
   "cell_type": "markdown",
   "metadata": {},
   "source": [
    "## 2. Lasso as a benchmark <a class=\"anchor\" id=\"lasso\"></a>"
   ]
  },
  {
   "cell_type": "code",
   "execution_count": 11,
   "metadata": {},
   "outputs": [
    {
     "data": {
      "text/plain": [
       "LassoCV(alphas=None, copy_X=True, cv=10, eps=0.001, fit_intercept=True,\n",
       "        max_iter=100000, n_alphas=100, n_jobs=None, normalize=True,\n",
       "        positive=False, precompute='auto', random_state=None,\n",
       "        selection='cyclic', tol=0.0001, verbose=False)"
      ]
     },
     "execution_count": 11,
     "metadata": {},
     "output_type": "execute_result"
    },
    {
     "data": {
      "text/plain": [
       "Lasso(alpha=0.00022075578064099097, copy_X=True, fit_intercept=True,\n",
       "      max_iter=10000, normalize=True, positive=False, precompute=False,\n",
       "      random_state=None, selection='cyclic', tol=0.0001, warm_start=False)"
      ]
     },
     "execution_count": 11,
     "metadata": {},
     "output_type": "execute_result"
    },
    {
     "data": {
      "text/plain": [
       "Lasso(alpha=0.00022075578064099097, copy_X=True, fit_intercept=True,\n",
       "      max_iter=10000, normalize=True, positive=False, precompute=False,\n",
       "      random_state=None, selection='cyclic', tol=0.0001, warm_start=False)"
      ]
     },
     "execution_count": 11,
     "metadata": {},
     "output_type": "execute_result"
    }
   ],
   "source": [
    "# import training data set\n",
    "train_data = pd.read_csv('train.csv') # 1022 by 258\n",
    "\n",
    "# get training set: n = 800\n",
    "train_x = train_data.loc[train_data['index']==\"training\",train_data.columns[2:258] ] # use all variables\n",
    "train_y = train_data.loc[train_data['index']==\"training\",'SalePrice']\n",
    "train_Y = np.log(train_y)\n",
    "\n",
    "# get validation set: n = 222\n",
    "validation_x = train_data.loc[train_data['index']==\"validation\",train_data.columns[2:258] ]\n",
    "validation_y = train_data.loc[train_data['index']==\"validation\",'SalePrice']\n",
    "validation_Y = np.log(validation_y)\n",
    "\n",
    "# run 10-fold cross validated lasso on the training set\n",
    "lassocv = LassoCV(alphas = None, cv = 10, max_iter = 100000, normalize = True)\n",
    "lassocv.fit(train_x, train_Y)\n",
    "\n",
    "# run lasso using lambda chosen from cross valiadation\n",
    "lasso = Lasso(max_iter = 10000, normalize = True)\n",
    "lasso.set_params(alpha=lassocv.alpha_)\n",
    "lasso.fit(train_x, train_Y)"
   ]
  },
  {
   "cell_type": "code",
   "execution_count": 12,
   "metadata": {},
   "outputs": [
    {
     "data": {
      "text/plain": [
       "0.009958610624093643"
      ]
     },
     "execution_count": 12,
     "metadata": {},
     "output_type": "execute_result"
    },
    {
     "data": {
      "text/plain": [
       "0.022966426383237166"
      ]
     },
     "execution_count": 12,
     "metadata": {},
     "output_type": "execute_result"
    },
    {
     "data": {
      "text/plain": [
       "[<matplotlib.lines.Line2D at 0x7f8784672290>]"
      ]
     },
     "execution_count": 12,
     "metadata": {},
     "output_type": "execute_result"
    },
    {
     "data": {
      "text/plain": [
       "Text(0.5, 0, 'Targeted y')"
      ]
     },
     "execution_count": 12,
     "metadata": {},
     "output_type": "execute_result"
    },
    {
     "data": {
      "text/plain": [
       "Text(0, 0.5, 'Modeled y')"
      ]
     },
     "execution_count": 12,
     "metadata": {},
     "output_type": "execute_result"
    },
    {
     "data": {
      "text/plain": [
       "(100000.0, 600000.0)"
      ]
     },
     "execution_count": 12,
     "metadata": {},
     "output_type": "execute_result"
    },
    {
     "data": {
      "text/plain": [
       "(100000.0, 600000.0)"
      ]
     },
     "execution_count": 12,
     "metadata": {},
     "output_type": "execute_result"
    },
    {
     "data": {
      "image/png": "[encoded data removed]",
      "text/plain": [
       "<Figure size 432x288 with 1 Axes>"
      ]
     },
     "metadata": {
      "needs_background": "light"
     },
     "output_type": "display_data"
    }
   ],
   "source": [
    "# calculate in sample mse\n",
    "mean_squared_error(train_Y, lasso.predict(train_x)) # 0.01\n",
    "\n",
    "# generate predictions for the validation set\n",
    "y_out = lasso.predict(validation_x)\n",
    "\n",
    "# calculate mse in validation set\n",
    "((validation_Y - y_out).pow(2)).mean() # 0.02 as a benchmark \n",
    "\n",
    "# plot predictions in the validation set\n",
    "plt.plot(validation_y, np.exp(y_out), 'o')\n",
    "plt.xlabel('Targeted y', fontsize=12)\n",
    "plt.ylabel('Modeled y', fontsize=12)\n",
    "plt.ylim(1e5,6e5)\n",
    "plt.xlim(1e5,6e5)\n",
    "plt.show()"
   ]
  },
  {
   "cell_type": "markdown",
   "metadata": {},
   "source": [
    "## 3. Neural network <a class=\"anchor\" id=\"nn\"></a>\n",
    "\n",
    "Import the data and use a subset of variables due to imbalance from some binary indicators"
   ]
  },
  {
   "cell_type": "code",
   "execution_count": null,
   "metadata": {},
   "outputs": [],
   "source": [
    "# import data\n",
    "train_data = pd.read_csv('Data/train.csv') # 1022 by 259\n",
    "test_data = pd.read_csv('Data/prediction.csv') # 438 by 258\n",
    "\n",
    "# find a subset of variables that are balanced\n",
    "to_use = list(range(2,122)) + list(range(129,150)) + \\\n",
    "         list(range(170,200)) + list(range(240,248))\n",
    "\n",
    "# training set: n = 800\n",
    "train_x = train_data.loc[train_data['index']==\"training\",train_data.columns[to_use] ]\n",
    "train_mean = train_x.mean()\n",
    "train_std = train_x.std()\n",
    "train_x = (train_x - train_mean)/train_std # standardize inputs\n",
    "\n",
    "train_X = torch.tensor(train_x.values).float() # change the format to tensor\n",
    "\n",
    "train_Y = torch.tensor(train_data.loc[train_data['index']==\"training\",'SalePrice'].values).float().view(-1,1) # change the format to tensor\n",
    "train_Y = torch.log(train_Y) # make log transformation on the outcome\n",
    "\n",
    "# validation set\n",
    "validation_x = train_data.loc[train_data['index']==\"validation\",train_data.columns[to_use] ] # use the same subset of variables\n",
    "validation_x = (validation_x - train_mean)/train_std # scale using training set's mean and standard deviation\n",
    "\n",
    "validation_X = torch.tensor(validation_x.values).float() # change the format to tensor\n",
    "\n",
    "validation_Y = torch.tensor(train_data.loc[train_data['index']==\"validation\",'SalePrice'].values).float().view(-1,1) # change the format to tensor\n",
    "validation_Y = torch.log(validation_Y) # make log transformation on the outcome\n",
    "\n",
    "# prediction set\n",
    "test_x = test_data.iloc[:,[x - 1 for x in to_use]] # use the same subset of variables\n",
    "test_x = (test_x - train_mean)/train_std # scale using training set's mean and standard deviation\n",
    "\n",
    "test_X = torch.tensor(test_x.values).float() # change the format to tensor\n"
   ]
  },
  {
   "cell_type": "markdown",
   "metadata": {},
   "source": [
    "Build neural networks"
   ]
  },
  {
   "cell_type": "code",
   "execution_count": null,
   "metadata": {},
   "outputs": [],
   "source": [
    "# prepare training data loader\n",
    "train_ds = TensorDataset(train_X,train_Y)\n",
    "validate_ds = TensorDataset(validation_X,validation_Y)\n",
    "\n",
    "batch_size = 32 # set the size of batch\n",
    "train_dl = DataLoader(train_ds, batch_size, shuffle=True) # prepare DataLoader for training set\n",
    "validate_dl = DataLoader(validate_ds, batch_size, shuffle=True) # prepare DataLoader for validation set\n",
    "\n",
    "# define model\n",
    "class bmodel(nn.Module):\n",
    "    def __init__(self, input_d, hidden_d, output_d):\n",
    "        super().__init__()\n",
    "        self.fc1 = nn.Linear(input_d,hidden_d) # fully connected layers \n",
    "        self.fc2 = nn.Linear(hidden_d,hidden_d) # fully connected layers\n",
    "        self.fc3 = nn.Linear(hidden_d, hidden_d) # fully connected layers\n",
    "        self.fc4 = nn.Linear(hidden_d,output_d) # fully connected layers\n",
    "        self.dropout1 = nn.Dropout(0.9) # dropout\n",
    "        self.dropout2 = nn.Dropout(0.9) # dropout\n",
    "        self.dropout3 = nn.Dropout(0.9) # dropout\n",
    "\n",
    "    def forward(self, x):\n",
    "        out = F.relu(self.fc1(x)) # fc -> ReLU\n",
    "        out = self.dropout1(out) # -> dropout\n",
    "        out = F.relu(self.fc2(out)) # fc -> ReLU\n",
    "        out = self.dropout2(out) # -> dropout\n",
    "        out = F.relu(self.fc3(out)) # fc -> ReLU\n",
    "        out = self.dropout3(out) # -> dropout\n",
    "        out = self.fc4(out) # -> fc\n",
    "        return out\n",
    "\n",
    "# define dimensions\n",
    "input_d = len(to_use)\n",
    "hidden_d = 2048\n",
    "output_d = 1\n",
    "\n",
    "# set up the model\n",
    "model = bmodel(input_d, hidden_d, output_d)\n",
    "\n",
    "# define optimizer\n",
    "opt = torch.optim.SGD(model.parameters(), lr=1e-5)\n",
    "\n",
    "# define loss function\n",
    "loss_fn = F.mse_loss\n",
    "\n",
    "# define the training function\n",
    "def train(train_loader,model,loss_fn,opt):\n",
    "    \n",
    "    # tell pytorch it's train mode\n",
    "    model.train()\n",
    "    \n",
    "    # define AverageMeter\n",
    "    losses = AverageMeter('Loss', math.ceil(train_X.shape[0]/batch_size),':.4f')\n",
    "\n",
    "    for batch_idx, (inputs, targets) in enumerate(train_loader):\n",
    "\n",
    "        # generate predictions\n",
    "        pred = model(inputs)\n",
    "        loss = loss_fn(pred, targets)\n",
    "\n",
    "        # record loss\n",
    "        losses.update(loss.data.item())\n",
    "\n",
    "        # perform gradient descent\n",
    "        opt.zero_grad()\n",
    "        loss.backward()\n",
    "        opt.step()\n",
    "\n",
    "    return(losses.avg)\n",
    "\n",
    "# define the validation function\n",
    "def validate(val_loader, model, loss_fn):\n",
    "    \n",
    "    # tell pytorch it's evaluation mode\n",
    "    model.eval()\n",
    "    with torch.no_grad():\n",
    "        \n",
    "        losses = AverageMeter('Loss',math.ceil(validation_X.shape[0]/batch_size),':.4f')\n",
    "\n",
    "        for batch_idx, (inputs,targets) in enumerate(val_loader):\n",
    "\n",
    "            # predict on validation set\n",
    "            outputs = model(inputs)\n",
    "\n",
    "            # calculate the loss\n",
    "            loss = loss_fn(outputs,targets)\n",
    "\n",
    "            # update the loss\n",
    "            losses.update(loss.data.item())\n",
    "\n",
    "    return losses.avg\n",
    "\n",
    "# define the main function\n",
    "def fit(num_epochs, model, loss_fn, opt):\n",
    "    \n",
    "    # define scalars \n",
    "    best_loss = 1e5\n",
    "    is_best = False\n",
    "    out_train_loss = []\n",
    "    out_validate_loss = []\n",
    "\n",
    "    for epoch in range(1,num_epochs+1): # iterate over epochs\n",
    "        \n",
    "        # train the model\n",
    "        train_loss = train(train_dl,model,loss_fn,opt)\n",
    "        \n",
    "        # validate the model\n",
    "        validation_loss = validate(validate_dl, model, loss_fn)\n",
    "        \n",
    "        # record the best model\n",
    "        is_best = validation_loss < best_loss\n",
    "        best_loss = min(validation_loss,best_loss)\n",
    "        \n",
    "        # record the loss\n",
    "        out_train_loss.append(train_loss)\n",
    "        out_validate_loss.append(validation_loss)\n",
    "\n",
    "        if is_best:\n",
    "            torch.save(model.state_dict(), 'Data/best_nn.pt') # save the best model\n",
    "\n",
    "        if epoch % 10 == 0:\n",
    "            print(\"[%d/%d] training loss: %0.3f, validation loss: %.3f\"\n",
    "                  % (epoch,num_epochs,train_loss,validation_loss))\n",
    "\n",
    "    print(\"Best validation loss: %.03f\" % (best_loss))\n",
    "    return out_train_loss, out_validate_loss\n",
    "\n"
   ]
  },
  {
   "cell_type": "markdown",
   "metadata": {},
   "source": [
    "Run the model and get the bias-variance plot"
   ]
  },
  {
   "cell_type": "code",
   "execution_count": null,
   "metadata": {},
   "outputs": [],
   "source": [
    "# run the process for 3000 epochs\n",
    "out_train_loss, out_validate_loss = fit(3000, model, loss_fn, opt)"
   ]
  },
  {
   "cell_type": "code",
   "execution_count": null,
   "metadata": {},
   "outputs": [],
   "source": [
    "# plot the training and validation loss\n",
    "plot_data = {'Epoch': list(range(1,3001)),\n",
    "             'TrainLoss': out_train_loss,\n",
    "             'ValidateLoss':out_validate_loss}\n",
    "\n",
    "plot_data = pd.DataFrame(plot_data)\n",
    "\n",
    "# find the best epoch\n",
    "index_min = plot_data['ValidateLoss'].idxmin()\n",
    "\n",
    "# plot\n",
    "plt.plot('Epoch','TrainLoss',data=plot_data,color=\"blue\",label='Training loss')\n",
    "plt.plot('Epoch','ValidateLoss',data=plot_data,color=\"brown\",label='Validation loss')\n",
    "plt.axhline(y=0.2, color='red', linestyle='-')\n",
    "plt.axvline(x=index_min+1, color='k', linestyle='--')\n",
    "plt.xlabel('Epoch')\n",
    "plt.ylabel('Loss')\n",
    "plt.legend()\n",
    "plt.show()"
   ]
  },
  {
   "cell_type": "markdown",
   "metadata": {},
   "source": [
    "What the bias-variance plot looks like in this model:"
   ]
  },
  {
   "cell_type": "markdown",
   "metadata": {},
   "source": [
    "![Bias-variance tradeoff in our model](img/our.png)"
   ]
  },
  {
   "cell_type": "markdown",
   "metadata": {},
   "source": [
    "What we expect in general:"
   ]
  },
  {
   "cell_type": "markdown",
   "metadata": {},
   "source": [
    "<img src=\"img/expect.png\" alt=\"Drawing\" style=\"width: 700px;\"/>"
   ]
  },
  {
   "cell_type": "markdown",
   "metadata": {},
   "source": [
    "## 4. Your job <a class=\"anchor\" id=\"job\"></a>\n",
    "\n",
    "Your homework will be graded by the following four parts."
   ]
  },
  {
   "cell_type": "markdown",
   "metadata": {},
   "source": [
    "### 4.1 Predict with lasso (15 pt) <a class=\"anchor\" id=\"plasso\"></a>\n",
    "\n",
    "Fit a lasso model on the training set (1022 observations), and predict SalePrice on the prediction set (438 observations) \n",
    "\n",
    "Output the prediction in a csv file and see Google Doc for more formatting details"
   ]
  },
  {
   "cell_type": "markdown",
   "metadata": {},
   "source": [
    "### 4.2 Improve neural networks model (40 pt) <a class=\"anchor\" id=\"impnn\"></a>\n",
    "\n",
    "Improve the neural networks model in whatever way you want"
   ]
  },
  {
   "cell_type": "markdown",
   "metadata": {},
   "source": [
    "### 4.3 Reproduce the bias-variance plot (20 pt) <a class=\"anchor\" id=\"plt\"></a>\n",
    "\n",
    "Reproduce the figure, ideally have the expected pattern"
   ]
  },
  {
   "cell_type": "markdown",
   "metadata": {},
   "source": [
    "### 4.4 Predict with neural networks (25 pt) <a class=\"anchor\" id=\"pnn\"></a>\n",
    "\n",
    "Use your NN model to predict in the prediction set (438 observations), and see Google Doc for more formatting details"
   ]
  }
 ],
 "metadata": {
  "kernelspec": {
   "display_name": "Python 3",
   "language": "python",
   "name": "python3"
  },
  "language_info": {
   "codemirror_mode": {
    "name": "ipython",
    "version": 3
   },
   "file_extension": ".py",
   "mimetype": "text/x-python",
   "name": "python",
   "nbconvert_exporter": "python",
   "pygments_lexer": "ipython3",
   "version": "3.7.4"
  }
 },
 "nbformat": 4,
 "nbformat_minor": 2
}
